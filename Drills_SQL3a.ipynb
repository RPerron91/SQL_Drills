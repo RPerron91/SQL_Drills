{
 "cells": [
  {
   "cell_type": "code",
   "execution_count": 1,
   "metadata": {},
   "outputs": [],
   "source": [
    "import math\n",
    "from sqlalchemy import create_engine"
   ]
  },
  {
   "cell_type": "code",
   "execution_count": 2,
   "metadata": {},
   "outputs": [],
   "source": [
    "postgres_user = 'dsbc_student'\n",
    "postgres_pw = '7*.8G9QH21'\n",
    "postgres_host = '142.93.121.174'\n",
    "postgres_port = '5432'\n",
    "postgres_db = 'dvdrentals'\n",
    "\n",
    "engine = create_engine('postgresql://{}:{}@{}:{}/{}'.format(\n",
    "    postgres_user, postgres_pw, postgres_host, postgres_port, postgres_db))"
   ]
  },
  {
   "cell_type": "code",
   "execution_count": 3,
   "metadata": {},
   "outputs": [
    {
     "name": "stdout",
     "output_type": "stream",
     "text": [
      "('PG-13', 223)\n",
      "('NC-17', 210)\n",
      "('R', 195)\n",
      "('PG', 194)\n",
      "('G', 178)\n"
     ]
    }
   ],
   "source": [
    "sql = '''\n",
    "SELECT\n",
    "    rating,\n",
    "    COUNT(film)\n",
    "FROM\n",
    "    film\n",
    "GROUP BY\n",
    "    rating\n",
    "ORDER BY\n",
    "    COUNT(film) DESC;\n",
    "'''\n",
    "\n",
    "results = engine.execute(sql)\n",
    "engine.dispose()\n",
    "rows = results.fetchall()\n",
    "\n",
    "for row in rows:\n",
    "    print(row)"
   ]
  },
  {
   "cell_type": "code",
   "execution_count": 4,
   "metadata": {},
   "outputs": [
    {
     "name": "stdout",
     "output_type": "stream",
     "text": [
      "('NC-17', Decimal('5.14'))\n",
      "('PG', Decimal('5.08'))\n",
      "('PG-13', Decimal('5.05'))\n",
      "('G', Decimal('4.84'))\n",
      "('R', Decimal('4.77'))\n"
     ]
    }
   ],
   "source": [
    "sql = '''\n",
    "SELECT\n",
    "    rating,\n",
    "    ROUND(AVG(rental_duration), 2) AS avg_rental_duration\n",
    "FROM\n",
    "    film\n",
    "GROUP BY\n",
    "    rating\n",
    "ORDER BY\n",
    "    ROUND(AVG(rental_duration), 2) DESC;\n",
    "'''\n",
    "\n",
    "results = engine.execute(sql)\n",
    "engine.dispose()\n",
    "rows = results.fetchall()\n",
    "\n",
    "for row in rows:\n",
    "    print(row)"
   ]
  },
  {
   "cell_type": "code",
   "execution_count": 5,
   "metadata": {},
   "outputs": [
    {
     "name": "stdout",
     "output_type": "stream",
     "text": [
      "the mean of the rows is: 115.272\n"
     ]
    }
   ],
   "source": [
    "def mean(init_numbers):\n",
    "    running_total = 0\n",
    "    numbers = []\n",
    "    for number in init_numbers:\n",
    "        # Change RowProxy value into string\n",
    "        num_string = str(number).strip('(').strip(')').strip('').strip(',')\n",
    "        # Change string into int and append to list\n",
    "        numbers.append(int(num_string))\n",
    "    \n",
    "    for number in numbers:\n",
    "        running_total += number\n",
    "    return running_total/len(numbers)\n",
    "\n",
    "sql = '''\n",
    "SELECT\n",
    "    length\n",
    "FROM\n",
    "    film\n",
    "'''\n",
    "\n",
    "results = engine.execute(sql)\n",
    "engine.dispose()\n",
    "rows = results.fetchall()\n",
    "\n",
    "\n",
    "print('the mean of the rows is: {}'.format(mean(rows)))"
   ]
  },
  {
   "cell_type": "code",
   "execution_count": 6,
   "metadata": {},
   "outputs": [
    {
     "name": "stdout",
     "output_type": "stream",
     "text": [
      "the median of the rows is: 114.0\n"
     ]
    }
   ],
   "source": [
    "def median(init_numbers):\n",
    "    #initialize empty list for sorting\n",
    "    numbers = []\n",
    "    for number in init_numbers:\n",
    "        # Change RowProxy value into string\n",
    "        num_string = str(number[0])\n",
    "        # Change string into int and append to list for sorting\n",
    "        numbers.append(int(num_string))\n",
    "    \n",
    "    numbers.sort()  # sort the list of numbers\n",
    "    count = len(numbers) # get the length of the array\n",
    "    isEven = count % 2 == 0 # check if this list is of even length\n",
    "  \n",
    "    if (isEven):\n",
    "        # find the two numbers in the middle of the array\n",
    "        mid = math.floor(count / 2)\n",
    "        a = numbers[mid - 1]\n",
    "        b = numbers[mid]\n",
    "        # find the average of these two numbers\n",
    "        ans = (a + b) / 2\n",
    "    else:\n",
    "        ans = numbers[math.floor( count / 2 )]\n",
    " \n",
    "    return ans\n",
    "\n",
    "sql = '''\n",
    "SELECT\n",
    "    length\n",
    "FROM\n",
    "    film\n",
    "'''\n",
    "\n",
    "results = engine.execute(sql)\n",
    "engine.dispose()\n",
    "rows = results.fetchall()\n",
    "\n",
    "\n",
    "print('the median of the rows is: {}'.format(median(rows)))    "
   ]
  },
  {
   "cell_type": "code",
   "execution_count": 7,
   "metadata": {},
   "outputs": [
    {
     "name": "stdout",
     "output_type": "stream",
     "text": [
      "the standard deviation of the movie_length is: 40.42633181855987\n"
     ]
    }
   ],
   "source": [
    "def standard_deviation(init_numbers):\n",
    "    #initialize empty list\n",
    "    numbers = []\n",
    "    for number in init_numbers:\n",
    "        # Change RowProxy value into string\n",
    "        num_string = str(number).strip('(').strip(')').strip('').strip(',')\n",
    "        \n",
    "        # Change string into int and append to list\n",
    "        numbers.append(int(num_string))\n",
    "\n",
    "    X_bar = mean(numbers)\n",
    "    N = len(numbers)\n",
    "    total_sum = 0\n",
    "\n",
    "    for X in numbers:\n",
    "        diff = X - X_bar\n",
    "        squared = math.pow(diff, 2)\n",
    "        total_sum += squared\n",
    "    sigma = math.sqrt(total_sum/(N-1))\n",
    "    return sigma\n",
    "\n",
    "sql = '''\n",
    "SELECT\n",
    "    length\n",
    "FROM\n",
    "    film\n",
    "'''\n",
    "\n",
    "results = engine.execute(sql)\n",
    "engine.dispose()\n",
    "rows = results.fetchall()\n",
    "\n",
    "print('the standard deviation of the movie_length is: {}'.format(standard_deviation(rows)))"
   ]
  },
  {
   "cell_type": "code",
   "execution_count": null,
   "metadata": {},
   "outputs": [],
   "source": []
  }
 ],
 "metadata": {
  "kernelspec": {
   "display_name": "Python 3",
   "language": "python",
   "name": "python3"
  },
  "language_info": {
   "codemirror_mode": {
    "name": "ipython",
    "version": 3
   },
   "file_extension": ".py",
   "mimetype": "text/x-python",
   "name": "python",
   "nbconvert_exporter": "python",
   "pygments_lexer": "ipython3",
   "version": "3.7.2"
  }
 },
 "nbformat": 4,
 "nbformat_minor": 2
}
